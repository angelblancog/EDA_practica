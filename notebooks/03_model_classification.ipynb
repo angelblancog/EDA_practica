{
 "cells": [
  {
   "cell_type": "markdown",
   "metadata": {},
   "source": [
    "## Máster en Data Science\n",
    "\n",
    "### Machine Learning\n",
    "\n",
    "Contacto: angel.blanco@cunef.edu"
   ]
  },
  {
   "cell_type": "markdown",
   "metadata": {},
   "source": [
    "\n",
    "# **Encoding de variables categóricas, escalado y modelo**\n",
    "\n",
    "En este notebook se realiza el encoding de las variables categóricas. Muchos algoritmos de aprendizaje automático no pueden manejar las variables categóricas por sí mismas a menos que las convirtamos en valores numéricos. Los resultados producidos por el modelo varían según las diferentes técnicas de codificación utilizadas.\n",
    "\n",
    "Las variables categóricas pueden dividirse en dos categorías:\n",
    "\n",
    "    - Nominal (Sin orden particular)\n",
    "    - Ordinal (con algún orden)\n",
    "\n",
    "A mayores, se llevarán acabo el escalado y la formulación de modelos del proceso de EDA.\n"
   ]
  },
  {
   "cell_type": "code",
   "execution_count": 1,
   "metadata": {},
   "outputs": [
    {
     "name": "stdout",
     "output_type": "stream",
     "text": [
      "3.10.12 (main, Jun 11 2023, 05:26:28) [GCC 11.4.0]\n",
      "['/home/angel/master/ML/repos/ml-class/EDA_Dataset/notebooks', '/usr/lib/python310.zip', '/usr/lib/python3.10', '/usr/lib/python3.10/lib-dynload', '', '/home/angel/master/ML/repos/practica0/.venv/lib/python3.10/site-packages']\n",
      "---\n",
      "/home/angel/master/ML/repos/practica0/.venv/bin/python\n"
     ]
    }
   ],
   "source": [
    "# Environment check\n",
    "import sys\n",
    "\n",
    "print(sys.version)\n",
    "print(sys.path)\n",
    "print(\"---\")\n",
    "print(sys.executable)"
   ]
  },
  {
   "cell_type": "markdown",
   "metadata": {},
   "source": [
    "#### Librerías"
   ]
  },
  {
   "cell_type": "code",
   "execution_count": 2,
   "metadata": {},
   "outputs": [],
   "source": [
    "# Procesamiento\n",
    "import pandas as pd \n",
    "import numpy as np\n",
    "\n",
    "# Modelaje\n",
    "import sklearn\n",
    "from sklearn.pipeline import Pipeline\n",
    "from sklearn import metrics\n",
    "from sklearn.ensemble import RandomForestClassifier, AdaBoostClassifier\n",
    "from sklearn.preprocessing import StandardScaler\n",
    "\n",
    "from sklearn.metrics import classification_report, confusion_matrix, roc_curve, auc, \\\n",
    "                            silhouette_score, recall_score, precision_score, make_scorer, \\\n",
    "                            roc_auc_score, f1_score, precision_recall_curve, accuracy_score, roc_auc_score, \\\n",
    "                            classification_report, confusion_matrix\n",
    "\n",
    "from sklearn import metrics\n",
    "from sklearn.metrics import ConfusionMatrixDisplay\n",
    "# Encoding\n",
    "import category_encoders as ce\n",
    "from sklearn.preprocessing import OneHotEncoder\n",
    "from sklearn.ensemble import GradientBoostingClassifier\n",
    "\n",
    "# Gráficos\n",
    "import matplotlib.pyplot as plt\n",
    "import seaborn as sns"
   ]
  },
  {
   "cell_type": "markdown",
   "metadata": {},
   "source": [
    "#### Lectura de datos"
   ]
  },
  {
   "cell_type": "code",
   "execution_count": 3,
   "metadata": {},
   "outputs": [],
   "source": [
    "pd_fraud_train = pd.read_csv(\"../data/preprocessed/train_pd_data_preprocessing_missing_outlier.csv\")\\\n",
    "                  .drop(['Unnamed: 0'], axis=1)\n",
    "pd_fraud_test = pd.read_csv(\"../data/preprocessed/test_pd_data_preprocessing_missing_outlier.csv\")\\\n",
    "                  .drop(['Unnamed: 0'], axis=1)"
   ]
  },
  {
   "cell_type": "markdown",
   "metadata": {},
   "source": [
    "#### Codificación de la variable objetivo\n",
    "\n",
    "Siendo 1 indicador de alta probabilidad de fraude y 0 indicador de lo contrario."
   ]
  },
  {
   "cell_type": "code",
   "execution_count": 6,
   "metadata": {},
   "outputs": [
    {
     "data": {
      "text/plain": [
       "fraud_bool\n",
       "0    791177\n",
       "1      8823\n",
       "Name: count, dtype: int64"
      ]
     },
     "execution_count": 6,
     "metadata": {},
     "output_type": "execute_result"
    }
   ],
   "source": [
    "pd_fraud_train['fraud_bool'].value_counts()"
   ]
  },
  {
   "cell_type": "code",
   "execution_count": 7,
   "metadata": {},
   "outputs": [],
   "source": [
    "X_train = pd_fraud_train.drop('fraud_bool',axis=1)\n",
    "X_test = pd_fraud_test.drop('fraud_bool',axis=1)\n",
    "y_train = pd_fraud_train['fraud_bool']\n",
    "y_test = pd_fraud_test['fraud_bool']"
   ]
  },
  {
   "cell_type": "markdown",
   "metadata": {},
   "source": [
    "#### Codificación del resto de variables categoricas\n",
    "\n",
    "He elegido codificarlas con one-hot-encoding."
   ]
  },
  {
   "cell_type": "code",
   "execution_count": 8,
   "metadata": {},
   "outputs": [],
   "source": [
    "list_columns_cat = list(X_train.select_dtypes([\"object\", \"category\"]).columns)\n",
    "list_other = list(set(X_train.columns)-set(list_columns_cat))"
   ]
  },
  {
   "cell_type": "code",
   "execution_count": 9,
   "metadata": {},
   "outputs": [],
   "source": [
    "hot = ce.OneHotEncoder(cols=list_columns_cat)\n",
    "modelo = hot.fit(X_train, y_train)"
   ]
  },
  {
   "cell_type": "code",
   "execution_count": 10,
   "metadata": {},
   "outputs": [
    {
     "data": {
      "text/html": [
       "<style>#sk-container-id-1 {color: black;}#sk-container-id-1 pre{padding: 0;}#sk-container-id-1 div.sk-toggleable {background-color: white;}#sk-container-id-1 label.sk-toggleable__label {cursor: pointer;display: block;width: 100%;margin-bottom: 0;padding: 0.3em;box-sizing: border-box;text-align: center;}#sk-container-id-1 label.sk-toggleable__label-arrow:before {content: \"▸\";float: left;margin-right: 0.25em;color: #696969;}#sk-container-id-1 label.sk-toggleable__label-arrow:hover:before {color: black;}#sk-container-id-1 div.sk-estimator:hover label.sk-toggleable__label-arrow:before {color: black;}#sk-container-id-1 div.sk-toggleable__content {max-height: 0;max-width: 0;overflow: hidden;text-align: left;background-color: #f0f8ff;}#sk-container-id-1 div.sk-toggleable__content pre {margin: 0.2em;color: black;border-radius: 0.25em;background-color: #f0f8ff;}#sk-container-id-1 input.sk-toggleable__control:checked~div.sk-toggleable__content {max-height: 200px;max-width: 100%;overflow: auto;}#sk-container-id-1 input.sk-toggleable__control:checked~label.sk-toggleable__label-arrow:before {content: \"▾\";}#sk-container-id-1 div.sk-estimator input.sk-toggleable__control:checked~label.sk-toggleable__label {background-color: #d4ebff;}#sk-container-id-1 div.sk-label input.sk-toggleable__control:checked~label.sk-toggleable__label {background-color: #d4ebff;}#sk-container-id-1 input.sk-hidden--visually {border: 0;clip: rect(1px 1px 1px 1px);clip: rect(1px, 1px, 1px, 1px);height: 1px;margin: -1px;overflow: hidden;padding: 0;position: absolute;width: 1px;}#sk-container-id-1 div.sk-estimator {font-family: monospace;background-color: #f0f8ff;border: 1px dotted black;border-radius: 0.25em;box-sizing: border-box;margin-bottom: 0.5em;}#sk-container-id-1 div.sk-estimator:hover {background-color: #d4ebff;}#sk-container-id-1 div.sk-parallel-item::after {content: \"\";width: 100%;border-bottom: 1px solid gray;flex-grow: 1;}#sk-container-id-1 div.sk-label:hover label.sk-toggleable__label {background-color: #d4ebff;}#sk-container-id-1 div.sk-serial::before {content: \"\";position: absolute;border-left: 1px solid gray;box-sizing: border-box;top: 0;bottom: 0;left: 50%;z-index: 0;}#sk-container-id-1 div.sk-serial {display: flex;flex-direction: column;align-items: center;background-color: white;padding-right: 0.2em;padding-left: 0.2em;position: relative;}#sk-container-id-1 div.sk-item {position: relative;z-index: 1;}#sk-container-id-1 div.sk-parallel {display: flex;align-items: stretch;justify-content: center;background-color: white;position: relative;}#sk-container-id-1 div.sk-item::before, #sk-container-id-1 div.sk-parallel-item::before {content: \"\";position: absolute;border-left: 1px solid gray;box-sizing: border-box;top: 0;bottom: 0;left: 50%;z-index: -1;}#sk-container-id-1 div.sk-parallel-item {display: flex;flex-direction: column;z-index: 1;position: relative;background-color: white;}#sk-container-id-1 div.sk-parallel-item:first-child::after {align-self: flex-end;width: 50%;}#sk-container-id-1 div.sk-parallel-item:last-child::after {align-self: flex-start;width: 50%;}#sk-container-id-1 div.sk-parallel-item:only-child::after {width: 0;}#sk-container-id-1 div.sk-dashed-wrapped {border: 1px dashed gray;margin: 0 0.4em 0.5em 0.4em;box-sizing: border-box;padding-bottom: 0.4em;background-color: white;}#sk-container-id-1 div.sk-label label {font-family: monospace;font-weight: bold;display: inline-block;line-height: 1.2em;}#sk-container-id-1 div.sk-label-container {text-align: center;}#sk-container-id-1 div.sk-container {/* jupyter's `normalize.less` sets `[hidden] { display: none; }` but bootstrap.min.css set `[hidden] { display: none !important; }` so we also need the `!important` here to be able to override the default hidden behavior on the sphinx rendered scikit-learn.org. See: https://github.com/scikit-learn/scikit-learn/issues/21755 */display: inline-block !important;position: relative;}#sk-container-id-1 div.sk-text-repr-fallback {display: none;}</style><div id=\"sk-container-id-1\" class=\"sk-top-container\"><div class=\"sk-text-repr-fallback\"><pre>OneHotEncoder(cols=[&#x27;device_os&#x27;, &#x27;source&#x27;, &#x27;housing_status&#x27;,\n",
       "                    &#x27;employment_status&#x27;, &#x27;payment_type&#x27;])</pre><b>In a Jupyter environment, please rerun this cell to show the HTML representation or trust the notebook. <br />On GitHub, the HTML representation is unable to render, please try loading this page with nbviewer.org.</b></div><div class=\"sk-container\" hidden><div class=\"sk-item\"><div class=\"sk-estimator sk-toggleable\"><input class=\"sk-toggleable__control sk-hidden--visually\" id=\"sk-estimator-id-1\" type=\"checkbox\" checked><label for=\"sk-estimator-id-1\" class=\"sk-toggleable__label sk-toggleable__label-arrow\">OneHotEncoder</label><div class=\"sk-toggleable__content\"><pre>OneHotEncoder(cols=[&#x27;device_os&#x27;, &#x27;source&#x27;, &#x27;housing_status&#x27;,\n",
       "                    &#x27;employment_status&#x27;, &#x27;payment_type&#x27;])</pre></div></div></div></div></div>"
      ],
      "text/plain": [
       "OneHotEncoder(cols=['device_os', 'source', 'housing_status',\n",
       "                    'employment_status', 'payment_type'])"
      ]
     },
     "execution_count": 10,
     "metadata": {},
     "output_type": "execute_result"
    }
   ],
   "source": [
    "modelo"
   ]
  },
  {
   "cell_type": "code",
   "execution_count": 11,
   "metadata": {},
   "outputs": [],
   "source": [
    "X_train_t = modelo.transform(X_train, y_train)\n",
    "X_test_t = modelo.transform(X_test, y_test)"
   ]
  },
  {
   "cell_type": "code",
   "execution_count": 12,
   "metadata": {},
   "outputs": [
    {
     "data": {
      "text/plain": [
       "52"
      ]
     },
     "execution_count": 12,
     "metadata": {},
     "output_type": "execute_result"
    }
   ],
   "source": [
    "len(list(X_train_t.columns))"
   ]
  },
  {
   "cell_type": "code",
   "execution_count": 13,
   "metadata": {},
   "outputs": [
    {
     "data": {
      "text/plain": [
       "{'income': dtype('float64'),\n",
       " 'device_fraud_count': dtype('int64'),\n",
       " 'device_distinct_emails_8w': dtype('int64'),\n",
       " 'keep_alive_session': dtype('int64'),\n",
       " 'device_os_1': dtype('int64'),\n",
       " 'device_os_2': dtype('int64'),\n",
       " 'device_os_3': dtype('int64'),\n",
       " 'device_os_4': dtype('int64'),\n",
       " 'device_os_5': dtype('int64'),\n",
       " 'session_length_in_minutes': dtype('float64'),\n",
       " 'source_1': dtype('int64'),\n",
       " 'source_2': dtype('int64'),\n",
       " 'foreign_request': dtype('int64'),\n",
       " 'proposed_credit_limit': dtype('float64'),\n",
       " 'has_other_cards': dtype('int64'),\n",
       " 'bank_months_count': dtype('int64'),\n",
       " 'phone_mobile_valid': dtype('int64'),\n",
       " 'phone_home_valid': dtype('int64'),\n",
       " 'housing_status_1': dtype('int64'),\n",
       " 'housing_status_2': dtype('int64'),\n",
       " 'housing_status_3': dtype('int64'),\n",
       " 'housing_status_4': dtype('int64'),\n",
       " 'housing_status_5': dtype('int64'),\n",
       " 'housing_status_6': dtype('int64'),\n",
       " 'housing_status_7': dtype('int64'),\n",
       " 'email_is_free': dtype('int64'),\n",
       " 'credit_risk_score': dtype('float64'),\n",
       " 'employment_status_1': dtype('int64'),\n",
       " 'employment_status_2': dtype('int64'),\n",
       " 'employment_status_3': dtype('int64'),\n",
       " 'employment_status_4': dtype('int64'),\n",
       " 'employment_status_5': dtype('int64'),\n",
       " 'employment_status_6': dtype('int64'),\n",
       " 'employment_status_7': dtype('int64'),\n",
       " 'date_of_birth_distinct_emails_4w': dtype('int64'),\n",
       " 'bank_branch_count_8w': dtype('float64'),\n",
       " 'velocity_4w': dtype('float64'),\n",
       " 'velocity_24h': dtype('float64'),\n",
       " 'velocity_6h': dtype('float64'),\n",
       " 'zip_count_4w': dtype('float64'),\n",
       " 'payment_type_1': dtype('int64'),\n",
       " 'payment_type_2': dtype('int64'),\n",
       " 'payment_type_3': dtype('int64'),\n",
       " 'payment_type_4': dtype('int64'),\n",
       " 'payment_type_5': dtype('int64'),\n",
       " 'intended_balcon_amount': dtype('float64'),\n",
       " 'days_since_request': dtype('float64'),\n",
       " 'customer_age': dtype('int64'),\n",
       " 'current_address_months_count': dtype('float64'),\n",
       " 'prev_address_months_count': dtype('float64'),\n",
       " 'name_email_similarity': dtype('float64'),\n",
       " 'month': dtype('int64')}"
      ]
     },
     "execution_count": 13,
     "metadata": {},
     "output_type": "execute_result"
    }
   ],
   "source": [
    "X_train_t.dtypes.to_dict()"
   ]
  },
  {
   "cell_type": "markdown",
   "metadata": {},
   "source": [
    "Hasta aquí hemos llegado para la práctica del EDA de momento."
   ]
  }
 ],
 "metadata": {
  "kernelspec": {
   "display_name": ".venv",
   "language": "python",
   "name": "python3"
  },
  "language_info": {
   "codemirror_mode": {
    "name": "ipython",
    "version": 3
   },
   "file_extension": ".py",
   "mimetype": "text/x-python",
   "name": "python",
   "nbconvert_exporter": "python",
   "pygments_lexer": "ipython3",
   "version": "3.10.12"
  }
 },
 "nbformat": 4,
 "nbformat_minor": 2
}
