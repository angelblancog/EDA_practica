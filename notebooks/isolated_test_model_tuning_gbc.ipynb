{
 "cells": [
  {
   "cell_type": "markdown",
   "metadata": {},
   "source": [
    "## Máster en Data Science\n",
    "\n",
    "### Machine Learning\n",
    "\n",
    "Contacto: angel.blanco@cunef.edu"
   ]
  },
  {
   "cell_type": "markdown",
   "metadata": {},
   "source": [
    "# **Model tuning Gradient Boosting Classifier**\n",
    "\n",
    "En este notebook va a realizarse una prueba extra del proceso de búsqueda y ajuste de hiperparámetros para el Gradient Boosting Classifier por si diera mejores resultados que el Logistic Regression."
   ]
  },
  {
   "cell_type": "markdown",
   "metadata": {},
   "source": [
    "### Librerías"
   ]
  },
  {
   "cell_type": "code",
   "execution_count": 1,
   "metadata": {},
   "outputs": [],
   "source": [
    "import os\n",
    "from pathlib import Path\n",
    "\n",
    "# Cambio del directory al root del proyecto\n",
    "current_dir = Path.cwd()\n",
    "\n",
    "if current_dir.name == \"notebooks\":\n",
    "    os.chdir(current_dir.parent)\n",
    "\n",
    "# Procesamiento\n",
    "import pandas as pd\n",
    "\n",
    "# Evaluación preliminar del modelo\n",
    "from sklearn.metrics import (\n",
    "    make_scorer, \n",
    "    fbeta_score\n",
    ")\n",
    "\n",
    "# Funciones\n",
    "from src.metrics import get_metrics\n",
    "from src.data import read_train, read_val, read_test\n",
    "from src.models import write_model\n",
    "\n",
    "# Modelos\n",
    "from sklearn.ensemble import GradientBoostingClassifier\n",
    "\n",
    "# Búsqueda de hiperparámetros\n",
    "from sklearn.model_selection import RandomizedSearchCV\n",
    "\n",
    "# Tiempo de ejecución\n",
    "import time\n",
    "\n",
    "\n",
    "# Omitir warnings\n",
    "import warnings\n",
    "warnings.filterwarnings('ignore')"
   ]
  },
  {
   "cell_type": "markdown",
   "metadata": {},
   "source": [
    "### Carga de datos"
   ]
  },
  {
   "cell_type": "code",
   "execution_count": 3,
   "metadata": {},
   "outputs": [],
   "source": [
    "x_train, y_train = read_train()\n",
    "x_val, y_val = read_val()\n",
    "x_test, y_test = read_test()"
   ]
  },
  {
   "cell_type": "code",
   "execution_count": 53,
   "metadata": {},
   "outputs": [],
   "source": [
    "results_before = pd.read_csv('tables/metrics.csv')"
   ]
  },
  {
   "cell_type": "markdown",
   "metadata": {},
   "source": [
    "### Modelo GradientBoostingClassifier"
   ]
  },
  {
   "cell_type": "code",
   "execution_count": 8,
   "metadata": {},
   "outputs": [],
   "source": [
    "model = GradientBoostingClassifier()\n",
    "\n",
    "f2_scorer = make_scorer(fbeta_score, beta=2)\n",
    "\n",
    "parametros = {\n",
    "    'n_estimators': [100, 200, 300, 400],\n",
    "    'learning_rate': [0.1, 0.05, 0.01],\n",
    "    'max_depth': [4, 6, 8],\n",
    "    'min_samples_leaf': [20, 50, 100, 150],\n",
    "    'max_features': [1.0, 0.3, 0.1]\n",
    "}\n"
   ]
  },
  {
   "cell_type": "code",
   "execution_count": 19,
   "metadata": {},
   "outputs": [
    {
     "name": "stdout",
     "output_type": "stream",
     "text": [
      "{'n_estimators': 300, 'min_samples_leaf': 100, 'max_features': 0.3, 'max_depth': 8, 'learning_rate': 0.1}\n",
      "------------------\n",
      "best f2_score: 0.9606112514660967\n"
     ]
    }
   ],
   "source": [
    "random_search = RandomizedSearchCV(model, n_iter=10, param_distributions=parametros, scoring=f2_scorer, cv=2)\n",
    "\n",
    "random_search.fit(x_train, y_train)\n",
    "\n",
    "print(random_search.best_params_)\n",
    "print('------------------')\n",
    "print(f'best f2_score: {random_search.best_score_}')"
   ]
  },
  {
   "cell_type": "code",
   "execution_count": 62,
   "metadata": {},
   "outputs": [
    {
     "name": "stdout",
     "output_type": "stream",
     "text": [
      "best f2_score: 0.9606\n"
     ]
    }
   ],
   "source": [
    "print(f'best f2_score: {random_search.best_score_:.4f}')"
   ]
  },
  {
   "cell_type": "code",
   "execution_count": 20,
   "metadata": {},
   "outputs": [],
   "source": [
    "write_model(model=random_search, name=\"random_search_gbc\")"
   ]
  },
  {
   "cell_type": "code",
   "execution_count": 56,
   "metadata": {},
   "outputs": [
    {
     "name": "stdout",
     "output_type": "stream",
     "text": [
      "saved model final_model\n"
     ]
    }
   ],
   "source": [
    "final_model = GradientBoostingClassifier(n_estimators=300, min_samples_leaf=100, max_features=0.3, max_depth=8, learning_rate=0.1)\n",
    "\n",
    "rows = []\n",
    "\n",
    "name = final_model.__class__.__name__\n",
    "start = time.perf_counter()\n",
    "final_model.fit(x_train, y_train)\n",
    "end = time.perf_counter()\n",
    "eta = end - start\n",
    "y_pred = final_model.predict(x_test)\n",
    "y_prob = final_model.predict_proba(x_test)\n",
    "    \n",
    "write_model(model=final_model, name=\"final_model_gbc\")\n",
    "print(f'saved model {name}')\n",
    "\n",
    "metrics = get_metrics(y_true=y_test, y_pred=y_pred, y_prob=y_prob)\n",
    "    \n",
    "metrics = {\"model\": name, \"time(min)\": eta/60} | {key: [value] for key, value  in metrics.items()}\n",
    "rows.append( pd.DataFrame(metrics) )\n",
    "\n",
    "all_metrics = pd.concat(rows)"
   ]
  },
  {
   "cell_type": "markdown",
   "metadata": {},
   "source": [
    "### Antes del tuning:"
   ]
  },
  {
   "cell_type": "code",
   "execution_count": 54,
   "metadata": {},
   "outputs": [
    {
     "data": {
      "text/html": [
       "<div>\n",
       "<style scoped>\n",
       "    .dataframe tbody tr th:only-of-type {\n",
       "        vertical-align: middle;\n",
       "    }\n",
       "\n",
       "    .dataframe tbody tr th {\n",
       "        vertical-align: top;\n",
       "    }\n",
       "\n",
       "    .dataframe thead th {\n",
       "        text-align: right;\n",
       "    }\n",
       "</style>\n",
       "<table border=\"1\" class=\"dataframe\">\n",
       "  <thead>\n",
       "    <tr style=\"text-align: right;\">\n",
       "      <th></th>\n",
       "      <th>model</th>\n",
       "      <th>time(min)</th>\n",
       "      <th>accuracy</th>\n",
       "      <th>precission</th>\n",
       "      <th>recall</th>\n",
       "      <th>f1_score</th>\n",
       "      <th>f2_score</th>\n",
       "      <th>ROC_0</th>\n",
       "      <th>ROC_1</th>\n",
       "    </tr>\n",
       "  </thead>\n",
       "  <tbody>\n",
       "    <tr>\n",
       "      <th>3</th>\n",
       "      <td>GradientBoostingClassifier</td>\n",
       "      <td>3.1345</td>\n",
       "      <td>0.9836</td>\n",
       "      <td>0.2017</td>\n",
       "      <td>0.174</td>\n",
       "      <td>0.1868</td>\n",
       "      <td>0.1789</td>\n",
       "      <td>0.1213</td>\n",
       "      <td>0.8787</td>\n",
       "    </tr>\n",
       "  </tbody>\n",
       "</table>\n",
       "</div>"
      ],
      "text/plain": [
       "                        model  time(min)  accuracy  precission  recall  \\\n",
       "3  GradientBoostingClassifier     3.1345    0.9836      0.2017   0.174   \n",
       "\n",
       "   f1_score  f2_score   ROC_0   ROC_1  \n",
       "3    0.1868    0.1789  0.1213  0.8787  "
      ]
     },
     "execution_count": 54,
     "metadata": {},
     "output_type": "execute_result"
    }
   ],
   "source": [
    "results_before = results_before.iloc[[3]]\n",
    "results_before"
   ]
  },
  {
   "cell_type": "markdown",
   "metadata": {},
   "source": [
    "### Después del tuning:"
   ]
  },
  {
   "cell_type": "code",
   "execution_count": 57,
   "metadata": {},
   "outputs": [
    {
     "data": {
      "text/html": [
       "<div>\n",
       "<style scoped>\n",
       "    .dataframe tbody tr th:only-of-type {\n",
       "        vertical-align: middle;\n",
       "    }\n",
       "\n",
       "    .dataframe tbody tr th {\n",
       "        vertical-align: top;\n",
       "    }\n",
       "\n",
       "    .dataframe thead th {\n",
       "        text-align: right;\n",
       "    }\n",
       "</style>\n",
       "<table border=\"1\" class=\"dataframe\">\n",
       "  <thead>\n",
       "    <tr style=\"text-align: right;\">\n",
       "      <th></th>\n",
       "      <th>model</th>\n",
       "      <th>time(min)</th>\n",
       "      <th>accuracy</th>\n",
       "      <th>precission</th>\n",
       "      <th>recall</th>\n",
       "      <th>f1_score</th>\n",
       "      <th>f2_score</th>\n",
       "      <th>ROC_0</th>\n",
       "      <th>ROC_1</th>\n",
       "    </tr>\n",
       "  </thead>\n",
       "  <tbody>\n",
       "    <tr>\n",
       "      <th>0</th>\n",
       "      <td>GradientBoostingClassifier</td>\n",
       "      <td>6.7927</td>\n",
       "      <td>0.989</td>\n",
       "      <td>0.5</td>\n",
       "      <td>0.0009</td>\n",
       "      <td>0.0018</td>\n",
       "      <td>0.0011</td>\n",
       "      <td>0.1524</td>\n",
       "      <td>0.8476</td>\n",
       "    </tr>\n",
       "  </tbody>\n",
       "</table>\n",
       "</div>"
      ],
      "text/plain": [
       "                        model  time(min)  accuracy  precission  recall  \\\n",
       "0  GradientBoostingClassifier     6.7927     0.989         0.5  0.0009   \n",
       "\n",
       "   f1_score  f2_score   ROC_0   ROC_1  \n",
       "0    0.0018    0.0011  0.1524  0.8476  "
      ]
     },
     "execution_count": 57,
     "metadata": {},
     "output_type": "execute_result"
    }
   ],
   "source": [
    "final_results = all_metrics.round(4)\n",
    "final_results"
   ]
  },
  {
   "cell_type": "markdown",
   "metadata": {},
   "source": [
    "El modelo presenta peor f2_score después del tuning y además tarda el doble en entrenar. He decidido quedarme con el Logistic Regression."
   ]
  }
 ],
 "metadata": {
  "kernelspec": {
   "display_name": ".venv",
   "language": "python",
   "name": "python3"
  },
  "language_info": {
   "codemirror_mode": {
    "name": "ipython",
    "version": 3
   },
   "file_extension": ".py",
   "mimetype": "text/x-python",
   "name": "python",
   "nbconvert_exporter": "python",
   "pygments_lexer": "ipython3",
   "version": "3.10.12"
  }
 },
 "nbformat": 4,
 "nbformat_minor": 2
}
